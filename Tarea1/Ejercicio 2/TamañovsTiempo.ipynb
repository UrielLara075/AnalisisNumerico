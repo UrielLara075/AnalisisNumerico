{
 "cells": [
  {
   "cell_type": "markdown",
   "metadata": {},
   "source": [
    "## Graficar el tiempo de ejecución de los programas respecto al tamaño de la matriz.\n",
    "\n",
    "**Lara Estrada Uriel Alejandro**"
   ]
  },
  {
   "cell_type": "code",
   "execution_count": null,
   "metadata": {},
   "outputs": [],
   "source": [
    "import numpy as np\n",
    "from numpy import linalg as LA\n",
    "import timeit\n",
    "import matplotlib.pyplot as plt\n",
    "from prog_clase.inversadematriz import Det"
   ]
  },
  {
   "cell_type": "code",
   "execution_count": null,
   "metadata": {},
   "outputs": [],
   "source": [
    "tamaños = np.arange(10, 100, 10)\n",
    "# Función Det\n",
    "tiempos_det = np.zeros(len(tamaños))\n",
    "\n",
    "for i, n in enumerate(tamaños):\n",
    "    M = np.random.randint(0, 10, (n, n))\n",
    "    tiempos_det[i] = timeit.timeit(lambda: Det(M), number=1)\n",
    "    \n",
    "plt.plot(tamaños, tiempos_det, label='Determinante')\n",
    "plt.xlabel('Tamaño de la matriz')\n",
    "plt.ylabel('Tiempo de ejecución')\n",
    "plt.show()"
   ]
  }
 ],
 "metadata": {
  "kernelspec": {
   "display_name": "Python 3",
   "language": "python",
   "name": "python3"
  },
  "language_info": {
   "codemirror_mode": {
    "name": "ipython",
    "version": 3
   },
   "file_extension": ".py",
   "mimetype": "text/x-python",
   "name": "python",
   "nbconvert_exporter": "python",
   "pygments_lexer": "ipython3",
   "version": "3.13.1"
  }
 },
 "nbformat": 4,
 "nbformat_minor": 2
}
